{
 "cells": [
  {
   "cell_type": "markdown",
   "metadata": {},
   "source": [
    "<h1 style=\"color:DodgerBlue\">Индивидальный проект</h1>"
   ]
  },
  {
   "cell_type": "markdown",
   "metadata": {},
   "source": [
    "<h2 style=\"color:DodgerBlue\">Название проекта:</h2>\n",
    "\n",
    "----\n",
    "\n",
    "### Вариант задания №15\n"
   ]
  },
  {
   "cell_type": "markdown",
   "metadata": {},
   "source": [
    "<h2 style=\"color:DodgerBlue\">Описание проекта:</h2>\n",
    "\n",
    "----\n",
    "Создать базовый класс OrderLine в C#, который будет представлять информацию о\n",
    "строке заказа, содержащей детали одного товара в заказе. На основе этого класса\n",
    "разработать 2-3 производных класса, демонстрирующих принципы наследования и\n",
    "полиморфизма. В каждом из классов должны быть реализованы новые атрибуты и\n",
    "методы, а также переопределены некоторые методы базового класса для\n",
    "демонстрации полиморфизма.\n",
    "\n",
    "Требования к базовому классу OrderLine:\n",
    "• Атрибуты: ID товара (ProductId), Название товара (ProductName), Цена\n",
    "товара (Price).\n",
    "\n",
    "• Методы:\n",
    "\n",
    "o CalculateTotal(): метод для расчета общей стоимости строки заказа.\n",
    "\n",
    "o UpdatePrice(decimal newPrice): метод для обновления цены товара в\n",
    "строке заказа.\n",
    "\n",
    "o GetProductDetails(): метод для получения деталей товара.\n",
    "\n",
    "\n",
    "Требования к производным классам:\n",
    "1. СтандартнаяСтрока (StandardLine): Должна содержать дополнительные\n",
    "атрибуты, такие как Количество единиц (Units). Метод CalculateTotal() должен\n",
    "быть переопределен для учета количества единиц при расчете общей\n",
    "стоимости.\n",
    "2. СпециальнаяСтрока (SpecialLine): Должна содержать дополнительные\n",
    "атрибуты, такие как Скидка (Discount). Метод UpdatePrice() должен быть\n",
    "переопределен для применения скидки к цене товара.\n",
    "3. БесплатнаяСтрока (FreeLine) (если требуется третий класс): Должна\n",
    "содержать дополнительные атрибуты, такие как Предварительный платеж\n",
    "(Prepayment). Метод CalculateTotal() должен быть переопределен для учета\n",
    "предварительного плата при расчете общей стоимости\n",
    "\n",
    "#### Дополнительное задание\n",
    "Добавьте к сущестующим классам конструктора классов с использованием гетторов и сетторов и реализуйте взаимодействие объектов между собой"
   ]
  },
  {
   "cell_type": "markdown",
   "metadata": {},
   "source": [
    "<h2 style=\"color:DodgerBlue\">Реализация:</h2>\n",
    "\n",
    "----"
   ]
  },
  {
   "cell_type": "code",
   "execution_count": 1,
   "metadata": {
    "dotnet_interactive": {
     "language": "csharp"
    },
    "polyglot_notebook": {
     "kernelName": "csharp"
    }
   },
   "outputs": [],
   "source": [
    "public class OrderLine\n",
    "{\n",
    "    protected int ProductId { get; private set; }\n",
    "    public string ProductName { get; private set; }\n",
    "    public decimal Price { get; private set; }\n",
    "    \n",
    "    public OrderLine(int productId, string productName, decimal price)\n",
    "    {\n",
    "        ProductId = productId;\n",
    "        ProductName = productName;\n",
    "        Price = price;\n",
    "        SetPrice(price);\n",
    "    }\n",
    "\n",
    "    public virtual void CalculateTotal()\n",
    "    {\n",
    "        if (Price < 0)\n",
    "        {\n",
    "            Console.WriteLine(\"Ошибка: Общая сумма не может быть отрицательной.\");\n",
    "        }\n",
    "        else\n",
    "        {\n",
    "            Console.WriteLine($\"Общая сумма: {Price} рублей\");\n",
    "        }\n",
    "    }\n",
    "\n",
    "    public virtual void UpdatePrice(decimal newPrice)\n",
    "    {\n",
    "        SetPrice(newPrice);\n",
    "        Console.WriteLine($\"Цена обновлена: {Price} рублей\");\n",
    "    }\n",
    "\n",
    "    public virtual void GetProductDetails()\n",
    "    {\n",
    "        Console.WriteLine($\"ID: {ProductId}, Название товара: {ProductName}, Цена товара: {Price} рублей\");\n",
    "    }\n",
    "\n",
    "    protected void SetPrice(decimal newPrice)\n",
    "    {\n",
    "        if (newPrice < 0)\n",
    "        {\n",
    "            Console.WriteLine(\"Ошибка: Цена не может быть отрицательной.\");\n",
    "        }\n",
    "        else\n",
    "        {\n",
    "            Price = newPrice;\n",
    "        }\n",
    "    }\n",
    "}\n",
    "OrderLine myProduct = new OrderLine(123,\"Футболка\",-3300);\n",
    "myProduct.GetProductDetails();\n",
    "myProduct.CalculateTotal();\n",
    "myProduct.UpdatePrice(2800);\n",
    "myProduct.GetProductDetails();\n",
    "myProduct.CalculateTotal();"
   ]
  },
  {
   "cell_type": "code",
   "execution_count": null,
   "metadata": {
    "dotnet_interactive": {
     "language": "csharp"
    },
    "polyglot_notebook": {
     "kernelName": "csharp"
    }
   },
   "outputs": [],
   "source": [
    "public class StandardLine : OrderLine\n",
    "{\n",
    "    private int _units;\n",
    "\n",
    "    public int Units\n",
    "    {\n",
    "        get { return _units; }\n",
    "        private set\n",
    "        {\n",
    "            if (value > 0)\n",
    "                _units = value;\n",
    "            else\n",
    "                Console.WriteLine(\"Ошибка: Количество должно быть положительным.\");\n",
    "        }\n",
    "    }\n",
    "\n",
    "    public StandardLine(int productId, string productName, decimal price, int units)\n",
    "        : base(productId, productName, price)\n",
    "    {\n",
    "        Units = units;\n",
    "    }\n",
    "\n",
    "    public override void CalculateTotal()\n",
    "    {\n",
    "        SetPrice(Price * Units);\n",
    "        base.CalculateTotal();\n",
    "    }\n",
    "    \n",
    "    public override void GetProductDetails()\n",
    "    {\n",
    "        base.GetProductDetails();\n",
    "        Console.WriteLine($\"Количество: {Units}\");\n",
    "    }\n",
    "}\n",
    "StandardLine myFewProduct = new StandardLine(123,\"Футболка\",3300,-2);\n",
    "myFewProduct.GetProductDetails();\n",
    "myFewProduct.CalculateTotal();"
   ]
  },
  {
   "cell_type": "code",
   "execution_count": null,
   "metadata": {
    "dotnet_interactive": {
     "language": "csharp"
    },
    "polyglot_notebook": {
     "kernelName": "csharp"
    }
   },
   "outputs": [],
   "source": [
    "public class SpecialLine : OrderLine\n",
    "{\n",
    "    private decimal _discount;\n",
    "\n",
    "    public decimal Discount\n",
    "    {\n",
    "        get { return _discount; }\n",
    "        private set\n",
    "        {\n",
    "            if (value >= 0 && value <= 100)\n",
    "                _discount = value;\n",
    "            else\n",
    "                Console.WriteLine(\"Скидка должна быть в пределах 0-100%.\");\n",
    "        }\n",
    "    }\n",
    "\n",
    "    public SpecialLine(int productId, string productName, decimal price, decimal discount)\n",
    "        : base(productId, productName, price)\n",
    "    {\n",
    "        Discount = discount;\n",
    "    }\n",
    "\n",
    "    public override void UpdatePrice(decimal newPrice)\n",
    "    {\n",
    "        SetPrice(newPrice - (newPrice * Discount / 100));\n",
    "        base.UpdatePrice(Price);\n",
    "    }\n",
    "\n",
    "    public override void GetProductDetails()\n",
    "    {\n",
    "        base.GetProductDetails();\n",
    "        Console.WriteLine($\"Скидка: {Discount}%\");\n",
    "    }\n",
    "}\n",
    "SpecialLine myDiscountProduct = new SpecialLine(123,\"Футболка\",3300,-30);\n",
    "myDiscountProduct.GetProductDetails();\n",
    "myDiscountProduct.UpdatePrice(3300);\n",
    "myDiscountProduct.CalculateTotal();"
   ]
  },
  {
   "cell_type": "code",
   "execution_count": null,
   "metadata": {
    "dotnet_interactive": {
     "language": "csharp"
    },
    "polyglot_notebook": {
     "kernelName": "csharp"
    }
   },
   "outputs": [],
   "source": [
    "public class FreeLine : OrderLine\n",
    "{\n",
    "    private decimal _prepayment;\n",
    "\n",
    "    public decimal Prepayment\n",
    "    {\n",
    "        get { return _prepayment; }\n",
    "        private set\n",
    "        {\n",
    "            if (value >= 0)\n",
    "                _prepayment = value;\n",
    "            else\n",
    "                Console.WriteLine(\"Предоплата не может быть отрицательной.\");\n",
    "        }\n",
    "    }\n",
    "\n",
    "    public FreeLine(int productId, string productName, decimal price, decimal prepayment)\n",
    "        : base(productId, productName, price)\n",
    "    {\n",
    "        Prepayment = prepayment;\n",
    "    }\n",
    "\n",
    "    public override void CalculateTotal()\n",
    "    {\n",
    "        SetPrice(Price - Prepayment);\n",
    "        base.CalculateTotal();\n",
    "    }\n",
    "\n",
    "    public override void GetProductDetails()\n",
    "    {\n",
    "        base.GetProductDetails();\n",
    "        Console.WriteLine($\"Предварительный платеж: {Prepayment} рублей\");\n",
    "    }\n",
    "}\n",
    "FreeLine myPrepayProduct = new FreeLine(123,\"Футболка\",3300,-1000);\n",
    "myPrepayProduct.GetProductDetails();\n",
    "myPrepayProduct.CalculateTotal();"
   ]
  },
  {
   "cell_type": "code",
   "execution_count": null,
   "metadata": {
    "dotnet_interactive": {
     "language": "csharp"
    },
    "polyglot_notebook": {
     "kernelName": "csharp"
    }
   },
   "outputs": [],
   "source": [
    "public class Comparer\n",
    "{\n",
    "    public static void CompareOrderLines(OrderLine product1, OrderLine product2)\n",
    "    {\n",
    "        Console.WriteLine($\"Сравниваем товары: {product1.ProductName} и {product2.ProductName}\");\n",
    "\n",
    "        if (product1.Price > product2.Price)\n",
    "        {\n",
    "            Console.WriteLine($\"Товар '{product1.ProductName}' дороже товара '{product2.ProductName}'.\");\n",
    "        }\n",
    "        else if (product1.Price < product2.Price)\n",
    "        {\n",
    "            Console.WriteLine($\"Товар '{product2.ProductName}' дороже товара '{product1.ProductName}'.\");\n",
    "        }\n",
    "        else\n",
    "        {\n",
    "            Console.WriteLine($\"Оба товара '{product1.ProductName}' и '{product2.ProductName}' имеют одинаковую цену: {product1.Price}.\");\n",
    "        }\n",
    "    }\n",
    "}\n",
    "StandardLine standardLine = new StandardLine(1, \"IPhone\", 100, 2);\n",
    "SpecialLine specialLine = new SpecialLine(2, \"Samsung\", 80, 10);\n",
    "//Comparer comparer = new Comparer();\n",
    "Comparer.CompareOrderLines(standardLine, specialLine);"
   ]
  }
 ],
 "metadata": {
  "kernelspec": {
   "display_name": ".NET (C#)",
   "language": "C#",
   "name": ".net-csharp"
  },
  "polyglot_notebook": {
   "kernelInfo": {
    "defaultKernelName": "csharp",
    "items": [
     {
      "aliases": [],
      "languageName": "csharp",
      "name": "csharp"
     }
    ]
   }
  }
 },
 "nbformat": 4,
 "nbformat_minor": 2
}

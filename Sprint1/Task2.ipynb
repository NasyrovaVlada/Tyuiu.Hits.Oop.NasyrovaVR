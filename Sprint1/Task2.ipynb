{
 "cells": [
  {
   "cell_type": "markdown",
   "metadata": {},
   "source": [
    "<h1 style=\"color:DodgerBlue\">Создание экземпляров классов (объектов) и взаимодействие объектов между собой</h1>"
   ]
  },
  {
   "cell_type": "markdown",
   "metadata": {},
   "source": [
    "### Создание экземпляров классов (объектов)\n",
    "\n",
    "В C#, экземпляр класса создается с помощью оператора `new`, который выделяет память для нового объекта и вызывает конструктор класса для инициализации этого объекта. Конструктор — это специальный метод в классе, который имеет то же имя, что и класс, и используется для установки начального состояния объекта.\n",
    "\n",
    "#### Пример создания экземпляров классов Vehicle и Car\n",
    "\n",
    "```csharp\n",
    "Vehicle myVehicle = new Vehicle();\n",
    "Car myCar = new Car();\n",
    "```\n",
    "\n",
    "В этом примере создаются два объекта: один для класса `Vehicle` и другой для класса `Car`. Конструкторы этих классов будут автоматически вызваны при создании объектов.\n",
    "\n",
    "### Взаимодействие объектов между Собой\n",
    "\n",
    "Взаимодействие объектов между собой означает, что один объект может вызывать методы другого объекта или обращаться к его свойствам (если они доступны). Это позволяет объектам обмениваться информацией и координировать свои действия.\n",
    "\n",
    "#### Пример взаимодействия объектов\n",
    "\n",
    "```csharp\n",
    "myVehicle.Color = \"Red\";\n",
    "myVehicle.Speed = 60;\n",
    "\n",
    "myCar.Color = \"Blue\";\n",
    "myCar.FuelLevel = 100;\n",
    "myCar.Refuel(50); // Увеличиваем уровень топлива на 50\n",
    "```\n",
    "\n",
    "В этом примере мы устанавливаем свойства `Color` и `Speed` для объекта `myVehicle`, а также свойства `Color` и `FuelLevel` для объекта `myCar`. Затем мы вызываем метод `Refuel` у объекта `myCar`, чтобы увеличить его уровень топлива.\n",
    "\n",
    "### Закрепление правил использования модификаторов доступа\n",
    "\n",
    "Модификаторы доступа определяют уровень доступности членов класса из других частей кода. Важно правильно использовать модификаторы доступа для обеспечения безопасности и инкапсуляции данных.\n",
    "\n",
    "#### Примеры модификаторов доступа в классах Vehicle и Car\n",
    "\n",
    "```csharp\n",
    "public class Vehicle\n",
    "{\n",
    "    public string Color { get; set; } // public свойство\n",
    "    private int speed; // private поле\n",
    "\n",
    "    protected void SetSpeed(int value) // protected метод\n",
    "    {\n",
    "        speed = value;\n",
    "    }\n",
    "}\n",
    "\n",
    "public class Car : Vehicle\n",
    "{\n",
    "    private int fuelLevel; // private поле\n",
    "\n",
    "    public void Refuel(int amount) // public метод\n",
    "    {\n",
    "        fuelLevel += amount;\n",
    "    }\n",
    "\n",
    "    protected void CheckSpeedLimit() // protected метод\n",
    "    {\n",
    "        if (speed > 120)\n",
    "        {\n",
    "            Console.WriteLine(\"Превышен скоростной режим!\");\n",
    "        }\n",
    "    }\n",
    "}\n",
    "```\n",
    "\n",
    "В этом примере:\n",
    "- Свойство `Color` в классе `Vehicle` объявлено как `public`, что позволяет доступ к нему из любого места в коде.\n",
    "- Поле `speed` в классе `Vehicle` объявлено как `private`, что ограничивает доступ к нему только внутри класса `Vehicle`.\n",
    "- Метод `SetSpeed` в классе `Vehicle` объявлен как `protected`, что позволяет доступ к нему из класса `Vehicle` и его производных классов.\n",
    "- Поле `fuelLevel` в классе `Car` объявлено как `private`, ограничивая доступ к нему только внутри класса `Car`.\n",
    "- Методы `Refuel` и `CheckSpeedLimit` в классе `Car` демонстрируют использование модификаторов доступа для контроля над тем, как объекты могут взаимодействовать друг с другом.\n",
    "\n",
    "### Заключение\n",
    "\n",
    "Создание экземпляров классов и взаимодействие между объектами являются ключевыми аспектами объектно-ориентированного программирования в C#. Правильное использование модификаторов доступа обеспечивает безопасность данных и инкапсуляцию, позволяя разработчикам создавать более надежные и управляемые программы."
   ]
  },
  {
   "cell_type": "markdown",
   "metadata": {},
   "source": [
    "<h4 style=\"color:DodgerBlue\">Для проверки напишите пример кода на основе классов Car и Vehicle ниже в блоке:</h4>\n",
    "\n",
    "----"
   ]
  },
  {
   "cell_type": "code",
   "execution_count": 1,
   "metadata": {
    "dotnet_interactive": {
     "language": "csharp"
    },
    "polyglot_notebook": {
     "kernelName": "csharp"
    }
   },
   "outputs": [
    {
     "name": "stdout",
     "output_type": "stream",
     "text": [
      "Превышен скоростной режим!\n",
      "Автомобиль заправлен на 25 литров. Текущий уровень топлива: 25 литров.\n"
     ]
    }
   ],
   "source": [
    "using System;\n",
    "\n",
    "public class Vehicle\n",
    "{\n",
    "    public string Color { get; set; }\n",
    "    protected int Speed;\n",
    "\n",
    "    protected void SetSpeed(int speed)\n",
    "    {\n",
    "        Speed = speed;\n",
    "    }\n",
    "\n",
    "    public void Accelerate(int speed)\n",
    "    {\n",
    "        Speed += speed;\n",
    "        CheckSpeedLimit();\n",
    "    }\n",
    "\n",
    "    public void Slowdown(int speed)\n",
    "    {\n",
    "        Speed -= speed;\n",
    "        if (Speed < 0) Speed = 0; \n",
    "    }\n",
    "\n",
    "    protected void CheckSpeedLimit()\n",
    "    {\n",
    "        if (Speed > 120)\n",
    "        {\n",
    "            Console.WriteLine(\"Превышен скоростной режим!\");\n",
    "        }\n",
    "    }\n",
    "\n",
    "    public int GetSpeed()\n",
    "    {\n",
    "        return Speed;\n",
    "    }\n",
    "}\n",
    "\n",
    "public class Car : Vehicle\n",
    "{\n",
    "    private int fuelLevel;\n",
    "\n",
    "    public void Refuel(int amount)\n",
    "    {\n",
    "        fuelLevel += amount;\n",
    "        Console.WriteLine($\"Автомобиль заправлен на {amount} литров. Текущий уровень топлива: {fuelLevel} литров.\");\n",
    "    }\n",
    "}\n",
    "\n",
    "Vehicle familyCar = new Vehicle();\n",
    "familyCar.Accelerate(50);\n",
    "Car sportsCar = new Car();\n",
    "sportsCar.Accelerate(130);\n",
    "sportsCar.Refuel(25);\n",
    "      \n"
   ]
  },
  {
   "cell_type": "markdown",
   "metadata": {},
   "source": [
    "<h4 style=\"color:Red\">Задание:</h4>\n",
    "\n",
    "----\n",
    "\n",
    "Ниже в блоке по примеру создайте базовый класс Animal и производные классы (2-3 например Dog, Cat и так далее) реализуйте структуру и объявление класса, включая свойства, геттеры и сеттеры, а также статические и обычными атрибуты и метода класса с реализацией взаимодействия между объектами."
   ]
  },
  {
   "cell_type": "code",
   "execution_count": 2,
   "metadata": {
    "dotnet_interactive": {
     "language": "csharp"
    },
    "polyglot_notebook": {
     "kernelName": "csharp"
    }
   },
   "outputs": [
    {
     "name": "stdout",
     "output_type": "stream",
     "text": [
      "Буся гавкает!\n",
      "Мурка мяукает!\n",
      "Мурка был накормлен и теперь здоров.\n"
     ]
    }
   ],
   "source": [
    "using System;\n",
    "\n",
    "public class Animal\n",
    "{\n",
    "    public string Name { get; set; }\n",
    "    protected int Age;\n",
    "    protected bool IsHealthy;\n",
    "\n",
    "    public Animal(string name, int age)\n",
    "    {\n",
    "        Name = name;\n",
    "        Age = age;\n",
    "        IsHealthy = true; \n",
    "    }\n",
    "\n",
    "    public void AgeOneYear()\n",
    "    {\n",
    "        Age++;\n",
    "        CheckHealthStatus();\n",
    "    }\n",
    "\n",
    "    public void Feed()\n",
    "    {\n",
    "        IsHealthy = true;\n",
    "        Console.WriteLine($\"{Name} был накормлен и теперь здоров.\");\n",
    "    }\n",
    "\n",
    "    protected void CheckHealthStatus()\n",
    "    {\n",
    "        if (Age > 15) \n",
    "        {\n",
    "            IsHealthy = false;\n",
    "            Console.WriteLine($\"{Name} не здоров.\");\n",
    "        }\n",
    "    }\n",
    "\n",
    "    public int GetAge()\n",
    "    {\n",
    "        return Age;\n",
    "    }\n",
    "\n",
    "    public bool GetHealthStatus()\n",
    "    {\n",
    "        return IsHealthy;\n",
    "    }\n",
    "}\n",
    "\n",
    "public class Dog : Animal\n",
    "{\n",
    "    public Dog(string name, int age) : base(name, age) { }\n",
    "\n",
    "    public void Bark()\n",
    "    {\n",
    "        Console.WriteLine($\"{Name} гавкает!\");\n",
    "    }\n",
    "}\n",
    "\n",
    "public class Cat : Animal\n",
    "{\n",
    "    public Cat(string name, int age) : base(name, age) { }\n",
    "\n",
    "    public void Meow()\n",
    "    {\n",
    "        Console.WriteLine($\"{Name} мяукает!\");\n",
    "    }\n",
    "}\n",
    "\n",
    "Dog dog = new Dog(\"Буся\", 3);\n",
    "dog.Bark(); \n",
    "dog.AgeOneYear(); \n",
    "Cat cat = new Cat(\"Мурка\", 5);\n",
    "cat.Meow(); \n",
    "cat.Feed(); \n",
    "cat.AgeOneYear(); \n",
    "    \n",
    "\n",
    "    \n"
   ]
  }
 ],
 "metadata": {
  "kernelspec": {
   "display_name": ".NET (C#)",
   "language": "C#",
   "name": ".net-csharp"
  },
  "polyglot_notebook": {
   "kernelInfo": {
    "defaultKernelName": "csharp",
    "items": [
     {
      "aliases": [],
      "languageName": "csharp",
      "name": "csharp"
     }
    ]
   }
  }
 },
 "nbformat": 4,
 "nbformat_minor": 2
}

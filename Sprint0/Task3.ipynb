{
 "cells": [
  {
   "cell_type": "markdown",
   "metadata": {},
   "source": [
    "<h1 style=\"color:DodgerBlue\">Индивидальный проект</h1>"
   ]
  },
  {
   "cell_type": "markdown",
   "metadata": {},
   "source": [
    "<h2 style=\"color:DodgerBlue\">Название проекта:</h2>\n",
    "\n",
    "----\n",
    "\n",
    "### Вариант задания №15\n"
   ]
  },
  {
   "cell_type": "markdown",
   "metadata": {},
   "source": [
    "<h2 style=\"color:DodgerBlue\">Описание проекта:</h2>\n",
    "\n",
    "----\n",
    "\n",
    "Создать базовый класс OrderLine в C#, который будет представлять информацию о\n",
    "строке заказа, содержащей детали одного товара в заказе. На основе этого класса\n",
    "разработать 2-3 производных класса, демонстрирующих принципы наследования и\n",
    "полиморфизма. В каждом из классов должны быть реализованы новые атрибуты и\n",
    "методы, а также переопределены некоторые методы базового класса для\n",
    "демонстрации полиморфизма.\n",
    "\n",
    "Требования к базовому классу OrderLine:\n",
    "• Атрибуты: ID товара (ProductId), Название товара (ProductName), Цена\n",
    "товара (Price).\n",
    "\n",
    "• Методы:\n",
    "\n",
    "o CalculateTotal(): метод для расчета общей стоимости строки заказа.\n",
    "\n",
    "o UpdatePrice(decimal newPrice): метод для обновления цены товара в\n",
    "строке заказа.\n",
    "\n",
    "o GetProductDetails(): метод для получения деталей товара.\n",
    "\n",
    "\n",
    "Требования к производным классам:\n",
    "1. СтандартнаяСтрока (StandardLine): Должна содержать дополнительные\n",
    "атрибуты, такие как Количество единиц (Units). Метод CalculateTotal() должен\n",
    "быть переопределен для учета количества единиц при расчете общей\n",
    "стоимости.\n",
    "2. СпециальнаяСтрока (SpecialLine): Должна содержать дополнительные\n",
    "атрибуты, такие как Скидка (Discount). Метод UpdatePrice() должен быть\n",
    "переопределен для применения скидки к цене товара.\n",
    "3. БесплатнаяСтрока (FreeLine) (если требуется третий класс): Должна\n",
    "содержать дополнительные атрибуты, такие как Предварительный платеж\n",
    "(Prepayment). Метод CalculateTotal() должен быть переопределен для учета\n",
    "предварительного плата при расчете общей стоимости\n"
   ]
  },
  {
   "cell_type": "markdown",
   "metadata": {},
   "source": [
    "<h2 style=\"color:DodgerBlue\">Реализация:</h2>\n",
    "\n",
    "----"
   ]
  },
  {
   "cell_type": "code",
   "execution_count": 61,
   "metadata": {
    "dotnet_interactive": {
     "language": "csharp"
    },
    "polyglot_notebook": {
     "kernelName": "csharp"
    }
   },
   "outputs": [
    {
     "name": "stdout",
     "output_type": "stream",
     "text": [
      "ID: 123, Название товара: Футболка, Цена товара: 3300 рублей\n",
      "Общая сумма: 3300 рублей\n",
      "Цена обновлена: 2800 рублей\n",
      "ID: 123, Название товара: Футболка, Цена товара: 2800 рублей\n",
      "Общая сумма: 2800 рублей\n"
     ]
    }
   ],
   "source": [
    "using System;\n",
    " public class OrderLine\n",
    " {\n",
    "     public int ProductId { get; set; }\n",
    "     public string ProductName { get; set; }\n",
    "     public decimal Price { get; set; }\n",
    "     \n",
    "     public OrderLine(int productId, string productName, decimal price)\n",
    "    {\n",
    "        ProductId = productId;\n",
    "        ProductName = productName;\n",
    "        Price = price;\n",
    "    }\n",
    "\n",
    "     public virtual void CalculateTotal()\n",
    "     {\n",
    "        Console.WriteLine($\"Общая сумма: {Price} рублей\");\n",
    "     }\n",
    "\n",
    "     public virtual void UpdatePrice(decimal newPrice)\n",
    "     {\n",
    "         Price = newPrice;\n",
    "         Console.WriteLine($\"Цена обновлена: {Price} рублей\");\n",
    "     } \n",
    "\n",
    "     public virtual void GetProductDetails()\n",
    "     {\n",
    "         Console.WriteLine($\"ID: {ProductId}, Название товара: {ProductName}, Цена товара: {Price} рублей\");\n",
    "     }\n",
    " }\n",
    "OrderLine myProduct = new OrderLine(123,\"Футболка\",3300);\n",
    "myProduct.GetProductDetails();\n",
    "myProduct.CalculateTotal();\n",
    "myProduct.UpdatePrice(2800);\n",
    "myProduct.GetProductDetails();\n",
    "myProduct.CalculateTotal();"
   ]
  },
  {
   "cell_type": "code",
   "execution_count": 55,
   "metadata": {
    "dotnet_interactive": {
     "language": "csharp"
    },
    "polyglot_notebook": {
     "kernelName": "csharp"
    }
   },
   "outputs": [
    {
     "name": "stdout",
     "output_type": "stream",
     "text": [
      "ID: 123, Название товара: Футболка, Цена товара: 3300 рублей\n",
      "Количество: 2\n",
      "Общая сумма: 6600 рублей\n"
     ]
    }
   ],
   "source": [
    "public class StandardLine : OrderLine\n",
    "{\n",
    "    public int Units { get; set; }\n",
    "    public StandardLine(int productId, string productName, decimal price, int units):base(productId, productName, price)\n",
    "    {\n",
    "        Units = units;\n",
    "    }\n",
    "\n",
    "    public override void CalculateTotal()\n",
    "    {\n",
    "        Price = Price * Units;\n",
    "        base.CalculateTotal();\n",
    "    }\n",
    "\n",
    "    public override void GetProductDetails()\n",
    "    {\n",
    "        base.GetProductDetails();\n",
    "        Console.WriteLine($\"Количество: {Units}\");\n",
    "    }\n",
    "}\n",
    "\n",
    "StandardLine myFewProduct = new StandardLine(123,\"Футболка\",3300,2);\n",
    "myFewProduct.GetProductDetails();\n",
    "myFewProduct.CalculateTotal();"
   ]
  },
  {
   "cell_type": "code",
   "execution_count": 59,
   "metadata": {
    "dotnet_interactive": {
     "language": "csharp"
    },
    "polyglot_notebook": {
     "kernelName": "csharp"
    }
   },
   "outputs": [
    {
     "name": "stdout",
     "output_type": "stream",
     "text": [
      "ID: 123, Название товара: Футболка, Цена товара: 3300 рублей\n",
      "Скидка: 30%\n",
      "Цена обновлена: 2310 рублей\n"
     ]
    }
   ],
   "source": [
    "public class SpecialLine : OrderLine\n",
    "{\n",
    "    public decimal Discount { get; set; }\n",
    "    public SpecialLine(int productId, string productName, decimal price, decimal discount):base(productId, productName, price)\n",
    "    {\n",
    "        Discount = discount;\n",
    "    }\n",
    "    \n",
    "    public override void UpdatePrice(decimal newPrice)\n",
    "    {\n",
    "        Price = newPrice - (newPrice * Discount / 100);\n",
    "        base.UpdatePrice(Price);\n",
    "    }\n",
    "\n",
    "    public override void GetProductDetails()\n",
    "    {\n",
    "        base.GetProductDetails();\n",
    "        Console.WriteLine($\"Скидка: {Discount}%\");\n",
    "    }\n",
    "}\n",
    "SpecialLine myDiscountProduct = new SpecialLine(123,\"Футболка\",3300,30);\n",
    "myDiscountProduct.GetProductDetails();\n",
    "myDiscountProduct.UpdatePrice(3300);"
   ]
  },
  {
   "cell_type": "code",
   "execution_count": 56,
   "metadata": {
    "dotnet_interactive": {
     "language": "csharp"
    },
    "polyglot_notebook": {
     "kernelName": "csharp"
    }
   },
   "outputs": [
    {
     "name": "stdout",
     "output_type": "stream",
     "text": [
      "ID: 123, Название товара: Футболка, Цена товара: 3300 рублей\n",
      "Предварительный платеж: 1000 рублей\n",
      "Общая сумма: 2300 рублей\n"
     ]
    }
   ],
   "source": [
    "public class FreeLine : OrderLine\n",
    "{\n",
    "    public decimal Prepayment { get; set; }\n",
    "    public FreeLine(int productId, string productName, decimal price, decimal prepayment):base(productId, productName, price)\n",
    "    {\n",
    "        Prepayment = prepayment;\n",
    "    }\n",
    "\n",
    "    public override void CalculateTotal()\n",
    "    {\n",
    "        Price = Price - Prepayment;\n",
    "        base.CalculateTotal();\n",
    "    }\n",
    "  \n",
    "    public override void GetProductDetails()\n",
    "    {\n",
    "        base.GetProductDetails();\n",
    "        Console.WriteLine($\"Предварительный платеж: {Prepayment} рублей\");\n",
    "    }\n",
    "}\n",
    "FreeLine myPrepayProduct = new FreeLine(123,\"Футболка\",3300,1000);\n",
    "myPrepayProduct.GetProductDetails();\n",
    "myPrepayProduct.CalculateTotal();jkj"
   ]
  }
 ],
 "metadata": {
  "kernelspec": {
   "display_name": ".NET (C#)",
   "language": "C#",
   "name": ".net-csharp"
  },
  "polyglot_notebook": {
   "kernelInfo": {
    "defaultKernelName": "csharp",
    "items": [
     {
      "aliases": [],
      "languageName": "csharp",
      "name": "csharp"
     }
    ]
   }
  }
 },
 "nbformat": 4,
 "nbformat_minor": 2
}

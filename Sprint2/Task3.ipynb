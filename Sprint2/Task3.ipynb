{
 "cells": [
  {
   "cell_type": "markdown",
   "metadata": {},
   "source": [
    "<h1 style=\"color:DodgerBlue\">Индивидальный проект</h1>"
   ]
  },
  {
   "cell_type": "markdown",
   "metadata": {},
   "source": [
    "<h2 style=\"color:DodgerBlue\">Название проекта:</h2>\n",
    "\n",
    "----\n",
    "\n",
    "### Вариант задания №15\n"
   ]
  },
  {
   "cell_type": "markdown",
   "metadata": {},
   "source": [
    "<h2 style=\"color:DodgerBlue\">Описание проекта:</h2>\n",
    "\n",
    "----\n",
    "\n",
    "Создать базовый класс OrderLine в C#, который будет представлять информацию о\n",
    "строке заказа, содержащей детали одного товара в заказе. На основе этого класса\n",
    "разработать 2-3 производных класса, демонстрирующих принципы наследования и\n",
    "полиморфизма. В каждом из классов должны быть реализованы новые атрибуты и\n",
    "методы, а также переопределены некоторые методы базового класса для\n",
    "демонстрации полиморфизма.\n",
    "\n",
    "Требования к базовому классу OrderLine:\n",
    "• Атрибуты: ID товара (ProductId), Название товара (ProductName), Цена\n",
    "товара (Price).\n",
    "\n",
    "• Методы:\n",
    "\n",
    "o CalculateTotal(): метод для расчета общей стоимости строки заказа.\n",
    "\n",
    "o UpdatePrice(decimal newPrice): метод для обновления цены товара в\n",
    "строке заказа.\n",
    "\n",
    "o GetProductDetails(): метод для получения деталей товара.\n",
    "\n",
    "\n",
    "Требования к производным классам:\n",
    "1. СтандартнаяСтрока (StandardLine): Должна содержать дополнительные\n",
    "атрибуты, такие как Количество единиц (Units). Метод CalculateTotal() должен\n",
    "быть переопределен для учета количества единиц при расчете общей\n",
    "стоимости.\n",
    "2. СпециальнаяСтрока (SpecialLine): Должна содержать дополнительные\n",
    "атрибуты, такие как Скидка (Discount). Метод UpdatePrice() должен быть\n",
    "переопределен для применения скидки к цене товара.\n",
    "3. БесплатнаяСтрока (FreeLine) (если требуется третий класс): Должна\n",
    "содержать дополнительные атрибуты, такие как Предварительный платеж\n",
    "(Prepayment). Метод CalculateTotal() должен быть переопределен для учета\n",
    "предварительного плата при расчете общей стоимости\n",
    "\n",
    "#### Дополнительное задание\n",
    "Добавьте к сущестующим классам (базовыму и производным 3-4 атрибута и метода) и реализуйте простое, сложное и множественное наследование"
   ]
  },
  {
   "cell_type": "markdown",
   "metadata": {},
   "source": [
    "<h2 style=\"color:DodgerBlue\">Реализация:</h2>\n",
    "\n",
    "----"
   ]
  },
  {
   "cell_type": "code",
   "execution_count": null,
   "metadata": {
    "dotnet_interactive": {
     "language": "csharp"
    },
    "polyglot_notebook": {
     "kernelName": "csharp"
    }
   },
   "outputs": [
    {
     "name": "stdout",
     "output_type": "stream",
     "text": [
      "ID: 1, Название товара: Ноутбук, Цена товара: 50000 рублей, Бренд: HP, Дата заказа: 23.10.2024\n",
      "Количество: 2\n",
      "Общая сумма за 2 единиц товара Ноутбук: 100000 рублей.\n"
     ]
    }
   ],
   "source": [
    "public interface IOrder\n",
    "{\n",
    "    void CalculateTotal();      \n",
    "    void GetProductDetails();   \n",
    "}\n",
    "\n",
    "public interface IUpdatePricing : IOrder\n",
    "{\n",
    "    void UpdatePrice(decimal newPrice);  \n",
    "}\n",
    "\n",
    "public interface IDiscountable\n",
    "{\n",
    "    decimal Discount { get; } // свойство\n",
    "    void ApplyDiscount();\n",
    "}\n",
    "\n",
    "public interface IPrepayable\n",
    "{\n",
    "    decimal Prepayment { get; }\n",
    "    void ApplyPrepayment();\n",
    "}\n",
    "\n",
    "public interface IReturnable\n",
    "{\n",
    "    void ReturnItem();\n",
    "}\n",
    "\n",
    "public class OrderLine : IUpdatePricing\n",
    "{\n",
    "    protected int ProductId { get; private set; }\n",
    "    public string ProductName { get; private set; }\n",
    "    public decimal Price { get; protected set; } //чтобы производные классы могли менять напрямую\n",
    "    public string Brand { get; private set; }\n",
    "    public DateTime OrderDate { get; private set; }\n",
    "\n",
    "    public OrderLine(int productId, string productName, decimal price, string brand)\n",
    "    {\n",
    "        ProductId = productId;\n",
    "        ProductName = productName;\n",
    "        Price = price;\n",
    "        Brand = brand;\n",
    "        OrderDate = DateTime.Now; // Установка текущей даты как даты заказа\n",
    "    }\n",
    "\n",
    "    public virtual void CalculateTotal()\n",
    "    {\n",
    "        if (Price < 0)\n",
    "        {\n",
    "            Console.WriteLine(\"Ошибка: Общая сумма не может быть отрицательной.\");\n",
    "        }\n",
    "        else\n",
    "        {\n",
    "            Console.WriteLine($\"Общая сумма: {Price} рублей\");\n",
    "        }\n",
    "    }\n",
    "\n",
    "    public virtual void UpdatePrice(decimal newPrice)\n",
    "    {\n",
    "        if (newPrice < 0)\n",
    "        {\n",
    "            Console.WriteLine(\"Ошибка: Цена не может быть отрицательной.\");\n",
    "        }\n",
    "        else\n",
    "        {\n",
    "            Price = newPrice;\n",
    "            Console.WriteLine($\"Цена обновлена: {Price} рублей\");\n",
    "        }\n",
    "    }\n",
    "\n",
    "    public virtual void GetProductDetails()\n",
    "    {\n",
    "        Console.WriteLine($\"ID: {ProductId}, Название товара: {ProductName}, Цена товара: {Price} рублей, Бренд: {Brand}, Дата заказа: {OrderDate.ToShortDateString()}\");\n",
    "    }\n",
    "}\n",
    "\n",
    "public class StandardLine : OrderLine\n",
    "{\n",
    "    private int _units;\n",
    "    \n",
    "    public int Units\n",
    "    {\n",
    "        get { return _units; }\n",
    "        private set\n",
    "        {\n",
    "            if (value > 0)\n",
    "                _units = value;\n",
    "            else\n",
    "                Console.WriteLine(\"Ошибка: Количество должно быть положительным.\");\n",
    "        }\n",
    "    }\n",
    "\n",
    "    public StandardLine(int productId, string productName, decimal price, string brand, int units)\n",
    "        : base(productId, productName, price, brand)\n",
    "    {\n",
    "        Units = units;\n",
    "    }\n",
    "\n",
    "    public override void CalculateTotal()\n",
    "    {\n",
    "        decimal total = Price * Units;\n",
    "        Console.WriteLine($\"Общая сумма за {Units} единиц товара {ProductName}: {total} рублей.\");\n",
    "    }\n",
    "    \n",
    "    public override void GetProductDetails()\n",
    "    {\n",
    "        base.GetProductDetails();\n",
    "        Console.WriteLine($\"Количество: {Units}\");\n",
    "    }\n",
    "}\n",
    "\n",
    "StandardLine standard = new StandardLine(1, \"Ноутбук\", 50000, \"HP\", 2);\n",
    "standard.GetProductDetails();\n",
    "standard.CalculateTotal();"
   ]
  },
  {
   "cell_type": "code",
   "execution_count": null,
   "metadata": {
    "dotnet_interactive": {
     "language": "csharp"
    },
    "polyglot_notebook": {
     "kernelName": "csharp"
    }
   },
   "outputs": [
    {
     "name": "stdout",
     "output_type": "stream",
     "text": [
      "ID: 2, Название товара: Телефон, Цена товара: 30000 рублей, Бренд: Samsung, Дата заказа: 23.10.2024\n",
      "Скидка: 10%\n",
      "Скидка 10% применена. Новая цена: 27000 рублей.\n",
      "Общая сумма: 27000 рублей\n"
     ]
    }
   ],
   "source": [
    "public class SpecialLine : OrderLine, IDiscountable\n",
    "{\n",
    "    public decimal Discount { get; private set; }\n",
    "\n",
    "    public SpecialLine(int productId, string productName, decimal price, string brand, decimal discount)\n",
    "        : base(productId, productName, price, brand)\n",
    "    {\n",
    "        Discount = discount;\n",
    "    }\n",
    "\n",
    "    public void ApplyDiscount()\n",
    "    {\n",
    "        if (Discount < 0 || Discount > 100)\n",
    "        {\n",
    "            Console.WriteLine(\"Ошибка: Скидка должна быть в пределах 0-100%.\");\n",
    "        }\n",
    "        else\n",
    "        {\n",
    "            Price = Price - (Price * Discount / 100);\n",
    "            Console.WriteLine($\"Скидка {Discount}% применена. Новая цена: {Price} рублей.\");\n",
    "        }\n",
    "    }\n",
    "\n",
    "    public override void GetProductDetails()\n",
    "    {\n",
    "        base.GetProductDetails();\n",
    "        Console.WriteLine($\"Скидка: {Discount}%\");\n",
    "    }\n",
    "}\n",
    "\n",
    "SpecialLine special = new SpecialLine(2, \"Телефон\", 30000, \"Samsung\", 10);\n",
    "special.GetProductDetails();\n",
    "special.ApplyDiscount();\n",
    "special.CalculateTotal();\n"
   ]
  },
  {
   "cell_type": "code",
   "execution_count": null,
   "metadata": {
    "dotnet_interactive": {
     "language": "csharp"
    },
    "polyglot_notebook": {
     "kernelName": "csharp"
    }
   },
   "outputs": [
    {
     "name": "stdout",
     "output_type": "stream",
     "text": [
      "ID: 3, Название товара: Планшет, Цена товара: 25000 рублей, Бренд: Apple, Дата заказа: 23.10.2024\n",
      "Предварительный платеж: 5000 рублей\n",
      "Предоплата 5000 рублей применена. Остаток к оплате: 20000 рублей.\n",
      "Общая сумма: 20000 рублей\n"
     ]
    }
   ],
   "source": [
    "public class FreeLine : OrderLine, IPrepayable\n",
    "{\n",
    "    public decimal Prepayment { get; private set; }\n",
    "\n",
    "    public FreeLine(int productId, string productName, decimal price, string brand, decimal prepayment)\n",
    "        : base(productId, productName, price, brand)\n",
    "    {\n",
    "        Prepayment = prepayment;\n",
    "    }\n",
    "\n",
    "    public void ApplyPrepayment()\n",
    "    {\n",
    "        if (Prepayment < 0)\n",
    "        {\n",
    "            Console.WriteLine(\"Ошибка: Предоплата не может быть отрицательной.\");\n",
    "        }\n",
    "        else\n",
    "        {\n",
    "            Price = Price - Prepayment;\n",
    "            Console.WriteLine($\"Предоплата {Prepayment} рублей применена. Остаток к оплате: {Price} рублей.\");\n",
    "        }\n",
    "    }\n",
    "\n",
    "    public override void CalculateTotal()\n",
    "    {\n",
    "        ApplyPrepayment();\n",
    "        base.CalculateTotal();\n",
    "    }\n",
    "\n",
    "    public override void GetProductDetails()\n",
    "    {\n",
    "        base.GetProductDetails();\n",
    "        Console.WriteLine($\"Предварительный платеж: {Prepayment} рублей\");\n",
    "    }\n",
    "}\n",
    "\n",
    "FreeLine free = new FreeLine(3, \"Планшет\", 25000, \"Apple\", 5000);\n",
    "free.GetProductDetails();\n",
    "free.CalculateTotal();"
   ]
  },
  {
   "cell_type": "code",
   "execution_count": null,
   "metadata": {
    "dotnet_interactive": {
     "language": "csharp"
    },
    "polyglot_notebook": {
     "kernelName": "csharp"
    }
   },
   "outputs": [
    {
     "name": "stdout",
     "output_type": "stream",
     "text": [
      "ID: 4, Название товара: Часы, Цена товара: 15000 рублей, Бренд: MeFit, Дата заказа: 23.10.2024\n",
      "Скидка: 20%\n",
      "Этот товар может быть возвращен.\n",
      "Скидка 20% применена. Новая цена: 12000 рублей.\n",
      "Товар Часы возвращен.\n"
     ]
    }
   ],
   "source": [
    "public class Return : SpecialLine, IReturnable\n",
    "{\n",
    "    public Return(int productId, string productName, decimal price, string brand, decimal discount)\n",
    "        : base(productId, productName, price, brand, discount)\n",
    "    {\n",
    "    }\n",
    "\n",
    "    public void ReturnItem()\n",
    "    {\n",
    "        Console.WriteLine($\"Товар {ProductName} возвращен.\");\n",
    "    }\n",
    "\n",
    "    public override void GetProductDetails()\n",
    "    {\n",
    "        base.GetProductDetails();\n",
    "        Console.WriteLine(\"Этот товар может быть возвращен.\");\n",
    "    }\n",
    "}\n",
    "\n",
    "Return myReturn = new Return(4, \"Часы\", 15000, \"MeFit\", 20);\n",
    "myReturn.GetProductDetails();\n",
    "myReturn.ApplyDiscount();\n",
    "myReturn.ReturnItem();"
   ]
  }
 ],
 "metadata": {
  "kernelspec": {
   "display_name": ".NET (C#)",
   "language": "C#",
   "name": ".net-csharp"
  },
  "polyglot_notebook": {
   "kernelInfo": {
    "defaultKernelName": "csharp",
    "items": [
     {
      "aliases": [],
      "languageName": "csharp",
      "name": "csharp"
     }
    ]
   }
  }
 },
 "nbformat": 4,
 "nbformat_minor": 2
}

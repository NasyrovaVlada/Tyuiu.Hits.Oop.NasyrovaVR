{
 "cells": [
  {
   "cell_type": "markdown",
   "metadata": {},
   "source": [
    "<h1 style=\"color:DodgerBlue\">Индивидальный проект</h1>"
   ]
  },
  {
   "cell_type": "markdown",
   "metadata": {},
   "source": [
    "<h2 style=\"color:DodgerBlue\">Название проекта:</h2>\n",
    "\n",
    "----\n",
    "\n",
    "### Вариант задания №15\n"
   ]
  },
  {
   "cell_type": "markdown",
   "metadata": {},
   "source": [
    "<h2 style=\"color:DodgerBlue\">Описание проекта:</h2>\n",
    "\n",
    "----\n",
    "\n",
    "Создать базовый класс OrderLine в C#, который будет представлять информацию о\n",
    "строке заказа, содержащей детали одного товара в заказе. На основе этого класса\n",
    "разработать 2-3 производных класса, демонстрирующих принципы наследования и\n",
    "полиморфизма. В каждом из классов должны быть реализованы новые атрибуты и\n",
    "методы, а также переопределены некоторые методы базового класса для\n",
    "демонстрации полиморфизма.\n",
    "\n",
    "Требования к базовому классу OrderLine:\n",
    "• Атрибуты: ID товара (ProductId), Название товара (ProductName), Цена\n",
    "товара (Price).\n",
    "\n",
    "• Методы:\n",
    "\n",
    "o CalculateTotal(): метод для расчета общей стоимости строки заказа.\n",
    "\n",
    "o UpdatePrice(decimal newPrice): метод для обновления цены товара в\n",
    "строке заказа.\n",
    "\n",
    "o GetProductDetails(): метод для получения деталей товара.\n",
    "\n",
    "\n",
    "Требования к производным классам:\n",
    "1. СтандартнаяСтрока (StandardLine): Должна содержать дополнительные\n",
    "атрибуты, такие как Количество единиц (Units). Метод CalculateTotal() должен\n",
    "быть переопределен для учета количества единиц при расчете общей\n",
    "стоимости.\n",
    "2. СпециальнаяСтрока (SpecialLine): Должна содержать дополнительные\n",
    "атрибуты, такие как Скидка (Discount). Метод UpdatePrice() должен быть\n",
    "переопределен для применения скидки к цене товара.\n",
    "3. БесплатнаяСтрока (FreeLine) (если требуется третий класс): Должна\n",
    "содержать дополнительные атрибуты, такие как Предварительный платеж\n",
    "(Prepayment). Метод CalculateTotal() должен быть переопределен для учета\n",
    "предварительного плата при расчете общей стоимости\n",
    "\n",
    "\n",
    "#### Дополнительное задание\n",
    "Добавьте к сущестующим классам (базовыму и производным 3-4 атрибута и метода) создайте явную реализации интерфейса и управление зависимостями \n"
   ]
  },
  {
   "cell_type": "markdown",
   "metadata": {},
   "source": [
    "<h2 style=\"color:DodgerBlue\">Реализация:</h2>\n",
    "\n",
    "----"
   ]
  },
  {
   "cell_type": "code",
   "execution_count": null,
   "metadata": {
    "dotnet_interactive": {
     "language": "csharp"
    },
    "polyglot_notebook": {
     "kernelName": "csharp"
    }
   },
   "outputs": [
    {
     "name": "stdout",
     "output_type": "stream",
     "text": [
      "ID: 1, Название товара: Ноутбук, Цена товара: 50000 рублей, Бренд: HP, Дата заказа: 07.11.2024\n",
      "Количество: 2\n",
      "Общая сумма за 2 единиц товара Ноутбук: 100000 рублей.\n"
     ]
    }
   ],
   "source": [
    "public interface IOrder\n",
    "{\n",
    "    void CalculateTotal();      \n",
    "    void GetProductDetails();   \n",
    "}\n",
    "\n",
    "public interface IUpdatePricing : IOrder\n",
    "{\n",
    "    void UpdatePrice(decimal newPrice);  \n",
    "}\n",
    "\n",
    "public interface IDiscountable\n",
    "{\n",
    "    decimal Discount { get; } \n",
    "    void ApplyDiscount();\n",
    "}\n",
    "\n",
    "public interface IPrepayable\n",
    "{\n",
    "    decimal Prepayment { get; }\n",
    "    void ApplyPrepayment();\n",
    "}\n",
    "\n",
    "public interface IReturnable\n",
    "{\n",
    "    void ReturnItem();\n",
    "}\n",
    "\n",
    "public class OrderLine : IUpdatePricing\n",
    "{\n",
    "    protected int ProductId { get; private set; }\n",
    "    public string ProductName { get; private set; }\n",
    "    public decimal Price { get; protected set; } \n",
    "    public string Brand { get; private set; }\n",
    "    public DateTime OrderDate { get; private set; }\n",
    "\n",
    "    public OrderLine(int productId, string productName, decimal price, string brand)\n",
    "    {\n",
    "        ProductId = productId;\n",
    "        ProductName = productName;\n",
    "        Price = price;\n",
    "        Brand = brand;\n",
    "        OrderDate = DateTime.Now; \n",
    "    }\n",
    "\n",
    "    public virtual void CalculateTotal()\n",
    "    {\n",
    "        if (Price < 0)\n",
    "        {\n",
    "            Console.WriteLine(\"Ошибка: Общая сумма не может быть отрицательной.\");\n",
    "        }\n",
    "        else\n",
    "        {\n",
    "            Console.WriteLine($\"Общая сумма: {Price} рублей\");\n",
    "        }\n",
    "    }\n",
    "\n",
    "    public virtual void UpdatePrice(decimal newPrice)\n",
    "    {\n",
    "        if (newPrice < 0)\n",
    "        {\n",
    "            Console.WriteLine(\"Ошибка: Цена не может быть отрицательной.\");\n",
    "        }\n",
    "        else\n",
    "        {\n",
    "            Price = newPrice;\n",
    "            Console.WriteLine($\"Цена обновлена: {Price} рублей\");\n",
    "        }\n",
    "    }\n",
    "\n",
    "    public virtual void GetProductDetails()\n",
    "    {\n",
    "        Console.WriteLine($\"ID: {ProductId}, Название товара: {ProductName}, Цена товара: {Price} рублей, Бренд: {Brand}, Дата заказа: {OrderDate.ToShortDateString()}\");\n",
    "    }\n",
    "\n",
    "     public void Information (string supplier)\n",
    "    {\n",
    "        Console.WriteLine($\"Поставщик: {supplier}\");\n",
    "    }\n",
    "\n",
    "}\n",
    "\n",
    "public class StandardLine : OrderLine\n",
    "{\n",
    "    private int _units;\n",
    "    \n",
    "    public int Units\n",
    "    {\n",
    "        get { return _units; }\n",
    "        private set\n",
    "        {\n",
    "            if (value > 0)\n",
    "                _units = value;\n",
    "            else\n",
    "                Console.WriteLine(\"Ошибка: Количество должно быть положительным.\");\n",
    "        }\n",
    "    }\n",
    "\n",
    "    public StandardLine(int productId, string productName, decimal price, string brand, int units)\n",
    "        : base(productId, productName, price, brand)\n",
    "    {\n",
    "        Units = units;\n",
    "    }\n",
    "\n",
    "    public override void CalculateTotal()\n",
    "    {\n",
    "        decimal total = Price * Units;\n",
    "        Console.WriteLine($\"Общая сумма за {Units} единиц товара {ProductName}: {total} рублей.\");\n",
    "    }\n",
    "    \n",
    "    public override void GetProductDetails()\n",
    "    {\n",
    "        base.GetProductDetails();\n",
    "        Console.WriteLine($\"Количество: {Units}\");\n",
    "    }\n",
    "\n",
    "    public void Information (string storage, int quantityStorage)\n",
    "    {\n",
    "        Console.WriteLine($\"Скалад: {storage}, Количество на складе: {quantityStorage}\");\n",
    "    }\n",
    "\n",
    "}\n",
    "\n",
    "IUpdatePricing standard = new StandardLine(1, \"Ноутбук\", 50000, \"HP\", 2);\n",
    "((IUpdatePricing)standard).GetProductDetails();\n",
    "((IUpdatePricing)standard).CalculateTotal();"
   ]
  },
  {
   "cell_type": "code",
   "execution_count": null,
   "metadata": {
    "dotnet_interactive": {
     "language": "csharp"
    },
    "polyglot_notebook": {
     "kernelName": "csharp"
    }
   },
   "outputs": [],
   "source": [
    "StandardLine info = new StandardLine(1, \"Телефон\", 20000, \"Apple\", 3);\n",
    "info.Information(\"МВидео\");\n",
    "info.Information(\"Москва\", 456);"
   ]
  },
  {
   "cell_type": "code",
   "execution_count": null,
   "metadata": {
    "dotnet_interactive": {
     "language": "csharp"
    },
    "polyglot_notebook": {
     "kernelName": "csharp"
    }
   },
   "outputs": [
    {
     "name": "stdout",
     "output_type": "stream",
     "text": [
      "Методы в классе SpecialLine:\n",
      "Метод: ApplyDiscount\n",
      "Метод: GetProductDetails\n",
      "Метод: MethodCounter\n",
      "Количество методов: 3\n"
     ]
    }
   ],
   "source": [
    "using System.Reflection;\n",
    "\n",
    "public class SpecialLine : OrderLine, IDiscountable\n",
    "{\n",
    "    public decimal Discount { get; private set; }\n",
    "\n",
    "    public SpecialLine(int productId, string productName, decimal price, string brand, decimal discount)\n",
    "        : base(productId, productName, price, brand)\n",
    "    {\n",
    "        Discount = discount;\n",
    "    }\n",
    "\n",
    "    public void ApplyDiscount()\n",
    "    {\n",
    "        if (Discount < 0 || Discount > 100)\n",
    "        {\n",
    "            Console.WriteLine(\"Ошибка: Скидка должна быть в пределах 0-100%.\");\n",
    "        }\n",
    "        else\n",
    "        {\n",
    "            Price = Price - (Price * Discount / 100);\n",
    "            Console.WriteLine($\"Скидка {Discount}% применена. Новая цена: {Price} рублей.\");\n",
    "        }\n",
    "    }\n",
    "\n",
    "    public override void GetProductDetails()\n",
    "    {\n",
    "        base.GetProductDetails();\n",
    "        Console.WriteLine($\"Скидка: {Discount}%\");\n",
    "    }\n",
    "    public void MethodCounter()\n",
    "    {\n",
    "        Type type = this.GetType();\n",
    "\n",
    "        MemberInfo[] members = type.GetMembers(BindingFlags.Public | BindingFlags.NonPublic | BindingFlags.Instance | BindingFlags.DeclaredOnly);\n",
    "\n",
    "        int methodCount = 0;\n",
    "        Console.WriteLine($\"Методы в классе {type.Name}:\");\n",
    "\n",
    "        foreach (var member in members)\n",
    "        {\n",
    "            if (member is MethodInfo method && !method.IsSpecialName)\n",
    "            {\n",
    "                methodCount++;\n",
    "                Console.WriteLine($\"Метод: {method.Name}\");\n",
    "            }\n",
    "        }\n",
    "        Console.WriteLine($\"Количество методов: {methodCount}\");\n",
    "    }\n",
    "}\n",
    "\n",
    "IUpdatePricing special = new SpecialLine(2, \"Телефон\", 30000, \"Samsung\", 10);\n",
    "// ((IUpdatePricing)special).GetProductDetails();\n",
    "// ((IDiscountable)special).ApplyDiscount();\n",
    "// ((IUpdatePricing)special).CalculateTotal();\n",
    "((SpecialLine)special).MethodCounter();"
   ]
  },
  {
   "cell_type": "code",
   "execution_count": null,
   "metadata": {
    "dotnet_interactive": {
     "language": "csharp"
    },
    "polyglot_notebook": {
     "kernelName": "csharp"
    }
   },
   "outputs": [
    {
     "name": "stdout",
     "output_type": "stream",
     "text": [
      "ID: 3, Название товара: Планшет, Цена товара: 25000 рублей, Бренд: Apple, Дата заказа: 07.11.2024\n",
      "Предварительный платеж: 5000 рублей\n",
      "Предоплата 5000 рублей применена. Остаток к оплате: 20000 рублей.\n"
     ]
    }
   ],
   "source": [
    "public class FreeLine : OrderLine, IPrepayable\n",
    "{\n",
    "    public decimal Prepayment { get; private set; }\n",
    "\n",
    "    public FreeLine(int productId, string productName, decimal price, string brand, decimal prepayment)\n",
    "        : base(productId, productName, price, brand)\n",
    "    {\n",
    "        Prepayment = prepayment;\n",
    "    }\n",
    "\n",
    "    void IPrepayable.ApplyPrepayment()\n",
    "    {\n",
    "        if (Prepayment < 0)\n",
    "        {\n",
    "            Console.WriteLine(\"Ошибка: Предоплата не может быть отрицательной.\");\n",
    "        }\n",
    "        else\n",
    "        {\n",
    "            Price = Price - Prepayment;\n",
    "            Console.WriteLine($\"Предоплата {Prepayment} рублей применена. Остаток к оплате: {Price} рублей.\");\n",
    "        }\n",
    "    }\n",
    "\n",
    "    public override void GetProductDetails()\n",
    "    {\n",
    "        base.GetProductDetails();\n",
    "        Console.WriteLine($\"Предварительный платеж: {Prepayment} рублей\");\n",
    "    }\n",
    "}\n",
    "\n",
    "IOrder free = new FreeLine(3, \"Планшет\", 25000, \"Apple\", 5000);\n",
    "((IOrder)free).GetProductDetails();\n",
    "((IPrepayable)free).ApplyPrepayment();"
   ]
  },
  {
   "cell_type": "code",
   "execution_count": null,
   "metadata": {
    "dotnet_interactive": {
     "language": "csharp"
    },
    "polyglot_notebook": {
     "kernelName": "csharp"
    }
   },
   "outputs": [],
   "source": [
    "public class Return : SpecialLine, IReturnable\n",
    "{\n",
    "    public Return(int productId, string productName, decimal price, string brand, decimal discount)\n",
    "        : base(productId, productName, price, brand, discount)\n",
    "    {\n",
    "    }\n",
    "\n",
    "    void IReturnable.ReturnItem()\n",
    "    {\n",
    "        Console.WriteLine($\"Товар {ProductName} возвращен.\");\n",
    "    }\n",
    "\n",
    "    public override void GetProductDetails()\n",
    "    {\n",
    "        base.GetProductDetails();\n",
    "        Console.WriteLine(\"Этот товар может быть возвращен.\");\n",
    "    }\n",
    "}\n",
    "\n",
    "IReturnable myReturn = new Return(4, \"Часы\", 15000, \"MeFit\", 20);\n",
    "((IOrder)myReturn).GetProductDetails();\n",
    "((IReturnable)myReturn).ReturnItem();\n",
    "//((IDiscountable)myReturn).ApplyDiscount();"
   ]
  },
  {
   "cell_type": "code",
   "execution_count": null,
   "metadata": {
    "dotnet_interactive": {
     "language": "csharp"
    },
    "polyglot_notebook": {
     "kernelName": "csharp"
    }
   },
   "outputs": [],
   "source": [
    "public class OrderList<T> where T : OrderLine\n",
    "{\n",
    "    private List<T> lines = new List<T>();\n",
    "\n",
    "    public void AddLine(T line)\n",
    "    {\n",
    "        lines.Add(line);\n",
    "        Console.WriteLine($\"Добавлена строка заказа: {line.ProductName}\");\n",
    "    }\n",
    "\n",
    "    public void RemoveLine(T line)\n",
    "    {\n",
    "        if (lines.Contains(line))\n",
    "        {\n",
    "            lines.Remove(line);\n",
    "            Console.WriteLine($\"Удалена строка заказа: {line.ProductName}\");\n",
    "        }\n",
    "        else\n",
    "        {\n",
    "            Console.WriteLine($\"Ошибка: Строка заказа {line.ProductName} не найдена.\");\n",
    "        }\n",
    "    }\n",
    "\n",
    "    public void ListLines()\n",
    "    {\n",
    "        if (lines.Any())\n",
    "        {\n",
    "            Console.WriteLine(\"Список заказов:\");\n",
    "            foreach (T line in lines)\n",
    "            {\n",
    "                line.GetProductDetails();\n",
    "            }\n",
    "        }\n",
    "        else\n",
    "        {\n",
    "            Console.WriteLine(\"Список заказов пуст.\");\n",
    "        }\n",
    "    }\n",
    "}\n",
    "OrderList<OrderLine> orderList = new OrderList<OrderLine>();\n",
    "\n",
    "StandardLine standardLine = new StandardLine(1, \"Ноутбук\", 50000m, \"HP\", 2);\n",
    "SpecialLine specialLine = new SpecialLine(2, \"Смартфон\", 30000m, \"Samsung\", 10);\n",
    "\n",
    "orderList.AddLine(standardLine);\n",
    "orderList.AddLine(specialLine);\n",
    "\n",
    "orderList.ListLines();\n",
    "Console.WriteLine(\"---------------------\");\n",
    "orderList.RemoveLine(specialLine);\n",
    "orderList.ListLines();"
   ]
  },
  {
   "cell_type": "code",
   "execution_count": null,
   "metadata": {
    "dotnet_interactive": {
     "language": "csharp"
    },
    "polyglot_notebook": {
     "kernelName": "csharp"
    }
   },
   "outputs": [
    {
     "name": "stdout",
     "output_type": "stream",
     "text": [
      "ID: 2, Название товара: Телефон, Цена товара: 30000 рублей, Бренд: Samsung, Дата заказа: 07.11.2024\n",
      "Скидка: 10%\n",
      "Общая сумма: 30000 рублей\n",
      "Скидка 10% применена. Новая цена: 27000 рублей.\n",
      "ID: 3, Название товара: Планшет, Цена товара: 25000 рублей, Бренд: Apple, Дата заказа: 07.11.2024\n",
      "Количество: 1\n",
      "Общая сумма за 1 единиц товара Планшет: 25000 рублей.\n"
     ]
    }
   ],
   "source": [
    "public class OrderService\n",
    "{\n",
    "    private readonly IOrder _order;\n",
    "\n",
    "    public OrderService(IOrder order)\n",
    "    {\n",
    "        _order = order;\n",
    "    }\n",
    "\n",
    "    public void ProcessOrder()\n",
    "    {\n",
    "        _order.GetProductDetails(); \n",
    "        _order.CalculateTotal();    \n",
    "\n",
    "        if (_order is IDiscountable discountable)\n",
    "        {\n",
    "            discountable.ApplyDiscount();\n",
    "        }\n",
    "    }\n",
    "}\n",
    "\n",
    "IOrder specialOrder = new SpecialLine(2, \"Телефон\", 30000, \"Samsung\", 10);\n",
    "OrderService specialService = new OrderService(specialOrder);\n",
    "specialService.ProcessOrder();\n",
    "\n",
    "IOrder freeOrder = new StandardLine(3, \"Планшет\", 25000, \"Apple\",1);\n",
    "OrderService freeService = new OrderService(freeOrder);\n",
    "freeService.ProcessOrder();\n"
   ]
  }
 ],
 "metadata": {
  "kernelspec": {
   "display_name": ".NET (C#)",
   "language": "C#",
   "name": ".net-csharp"
  },
  "polyglot_notebook": {
   "kernelInfo": {
    "defaultKernelName": "csharp",
    "items": [
     {
      "aliases": [],
      "languageName": "csharp",
      "name": "csharp"
     }
    ]
   }
  }
 },
 "nbformat": 4,
 "nbformat_minor": 2
}
